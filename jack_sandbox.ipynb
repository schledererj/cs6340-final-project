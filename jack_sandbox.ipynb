{
 "cells": [
  {
   "cell_type": "code",
   "execution_count": null,
   "metadata": {},
   "outputs": [],
   "source": [
    "import os\n",
    "import os.path\n",
    "\n",
    "import math\n",
    "\n",
    "import pandas as pd\n",
    "\n",
    "import numpy as np\n",
    "\n",
    "import sklearn.preprocessing\n",
    "import sklearn.pipeline\n",
    "import sklearn.impute\n",
    "import sklearn.compose\n",
    "import sklearn.model_selection\n",
    "import sklearn.linear_model\n",
    "import sklearn.metrics\n",
    "\n",
    "import seaborn as sns\n",
    "\n",
    "import geopy.geocoders\n",
    "import geopy.extra.rate_limiter\n",
    "\n",
    "pd.set_option('display.max_rows', 500)\n",
    "pd.set_option('display.max_columns', 500)\n",
    "pd.set_option('display.width', 1000)"
   ]
  },
  {
   "cell_type": "code",
   "execution_count": null,
   "metadata": {},
   "outputs": [],
   "source": [
    "df = pd.read_csv(os.path.join(os.getcwd(), 'NH_ProviderInfo_Jan2022_with_coords.csv'))\n",
    "df.head()"
   ]
  },
  {
   "cell_type": "code",
   "execution_count": null,
   "metadata": {},
   "outputs": [],
   "source": [
    "df.info()"
   ]
  },
  {
   "cell_type": "code",
   "execution_count": null,
   "metadata": {},
   "outputs": [],
   "source": [
    "cat_cols = ['Provider City',\n",
    "            'Provider State',\n",
    "            'Provider Zip Code',\n",
    "            'Provider SSA County Code',\n",
    "            'Ownership Type',\n",
    "            'Provider Type',\n",
    "            'Provider Resides in Hospital',\n",
    "            'Continuing Care Retirement Community',\n",
    "            'Special Focus Status',\n",
    "            'Abuse Icon',\n",
    "            'Most Recent Health Inspection More Than 2 Years Ago',\n",
    "            'Provider Changed Ownership in Last 12 Months',\n",
    "            'With a Resident and Family Council',\n",
    "            'Automatic Sprinkler Systems in All Required Areas',\n",
    "            'Long-Stay QM Rating Footnote',\n",
    "            'Short-Stay QM Rating Footnote',\n",
    "            'Staffing Rating Footnote',\n",
    "            'RN Staffing Rating Footnote',\n",
    "            'Reported Staffing Footnote',\n",
    "            'Physical Therapist Staffing Footnote',\n",
    "            'Total nursing staff turnover footnote',\n",
    "            'Registered Nurse turnover footnote',\n",
    "            'Administrator turnover footnote']\n",
    "\n",
    "num_cols = ['Number of Certified Beds',\n",
    "            'Average Number of Residents per Day',\n",
    "            'Overall Rating',\n",
    "            'Health Inspection Rating',\n",
    "            'QM Rating',\n",
    "            'Long-Stay QM Rating',\n",
    "            'Short-Stay QM Rating',\n",
    "            'Staffing Rating',\n",
    "            'RN Staffing Rating',\n",
    "            'Reported Nurse Aide Staffing Hours per Resident per Day',\n",
    "            'Reported LPN Staffing Hours per Resident per Day',\n",
    "            'Reported RN Staffing Hours per Resident per Day',\n",
    "            'Reported Licensed Staffing Hours per Resident per Day',\n",
    "            'Reported Total Nurse Staffing Hours per Resident per Day',\n",
    "            'Total number of nurse staff hours per resident per day on the weekend',\n",
    "            'Registered Nurse hours per resident per day on the weekend',\n",
    "            'Reported Physical Therapist Staffing Hours per Resident Per Day',\n",
    "            'Total nursing staff turnover',\n",
    "            'Registered Nurse turnover',\n",
    "            'Number of administrators who have left the nursing home',\n",
    "            'Case-Mix Nurse Aide Staffing Hours per Resident per Day',\n",
    "            'Case-Mix LPN Staffing Hours per Resident per Day',\n",
    "            'Case-Mix RN Staffing Hours per Resident per Day',\n",
    "            'Case-Mix Total Nurse Staffing Hours per Resident per Day',\n",
    "            'Adjusted Nurse Aide Staffing Hours per Resident per Day',\n",
    "            'Adjusted LPN Staffing Hours per Resident per Day',\n",
    "            'Adjusted RN Staffing Hours per Resident per Day',\n",
    "            'Adjusted Total Nurse Staffing Hours per Resident per Day',\n",
    "            'Rating Cycle 1 Total Number of Health Deficiencies',\n",
    "            'Rating Cycle 1 Number of Standard Health Deficiencies',\n",
    "            'Rating Cycle 1 Number of Complaint Health Deficiencies',\n",
    "            'Rating Cycle 1 Health Deficiency Score',\n",
    "            'Rating Cycle 1 Number of Health Revisits',\n",
    "            'Rating Cycle 1 Health Revisit Score',\n",
    "            'Rating Cycle 1 Total Health Score',\n",
    "            'Rating Cycle 2 Total Number of Health Deficiencies',\n",
    "            'Rating Cycle 2 Number of Standard Health Deficiencies',\n",
    "            'Rating Cycle 2 Number of Complaint Health Deficiencies',\n",
    "            'Rating Cycle 2 Health Deficiency Score',\n",
    "            'Rating Cycle 2 Number of Health Revisits',\n",
    "            'Rating Cycle 2 Health Revisit Score',\n",
    "            'Rating Cycle 2 Total Health Score',\n",
    "            'Rating Cycle 3 Total Number of Health Deficiencies',\n",
    "            'Rating Cycle 3 Number of Standard Health Deficiencies',\n",
    "            'Rating Cycle 3 Number of Complaint Health Deficiencies',\n",
    "            'Rating Cycle 3 Health Deficiency Score',\n",
    "            'Rating Cycle 3 Number of Health Revisits',\n",
    "            'Rating Cycle 3 Health Revisit Score',\n",
    "            'Rating Cycle 3 Total Health Score',\n",
    "            'Total Weighted Health Survey Score',\n",
    "            'Number of Facility Reported Incidents',\n",
    "            'Number of Substantiated Complaints',\n",
    "            'Number of Citations from Infection Control Inspections']\n",
    "\n",
    "target_column = 'Total Amount of Fines in Dollars'"
   ]
  },
  {
   "cell_type": "code",
   "execution_count": null,
   "metadata": {},
   "outputs": [],
   "source": [
    "binner = sklearn.compose.ColumnTransformer([\n",
    "    (\"kbins\", sklearn.preprocessing.KBinsDiscretizer(n_bins=10, encode='ordinal', strategy='quantile'), [target_column])\n",
    "])\n",
    "\n",
    "bins = binner.fit_transform(df)\n",
    "sns.histplot(bins)"
   ]
  },
  {
   "cell_type": "code",
   "execution_count": null,
   "metadata": {},
   "outputs": [],
   "source": [
    "categorical_pipeline = sklearn.pipeline.make_pipeline(\n",
    "    sklearn.preprocessing.OneHotEncoder()\n",
    ")\n",
    "\n",
    "numeric_pipeline = sklearn.pipeline.make_pipeline(\n",
    "    sklearn.impute.SimpleImputer(strategy='median'),\n",
    "    sklearn.preprocessing.StandardScaler()\n",
    ")\n",
    "\n",
    "full_pipeline = sklearn.compose.ColumnTransformer([\n",
    "    (\"categorical\", categorical_pipeline, cat_cols),\n",
    "    (\"numeric\", numeric_pipeline, num_cols)\n",
    "])"
   ]
  },
  {
   "cell_type": "code",
   "execution_count": null,
   "metadata": {},
   "outputs": [],
   "source": [
    "features_matrix = full_pipeline.fit_transform(df)\n",
    "features_matrix.shape"
   ]
  },
  {
   "cell_type": "code",
   "execution_count": null,
   "metadata": {},
   "outputs": [],
   "source": [
    "training_features, testing_features, training_targets, testing_targets = sklearn.model_selection.train_test_split(features_matrix, df[target_column], test_size=0.25, stratify=bins)"
   ]
  },
  {
   "cell_type": "code",
   "execution_count": null,
   "metadata": {},
   "outputs": [],
   "source": [
    "model = sklearn.linear_model.SGDRegressor()\n",
    "model.fit(training_features, training_targets)"
   ]
  },
  {
   "cell_type": "code",
   "execution_count": null,
   "metadata": {},
   "outputs": [],
   "source": [
    "predictions = model.predict(testing_features)"
   ]
  },
  {
   "cell_type": "code",
   "execution_count": null,
   "metadata": {},
   "outputs": [],
   "source": [
    "error = math.sqrt(sklearn.metrics.mean_squared_error(testing_targets, predictions))\n",
    "error"
   ]
  },
  {
   "cell_type": "code",
   "execution_count": null,
   "metadata": {},
   "outputs": [],
   "source": [
    "df['Full Address'] = df['Provider Address'] + \", \" + df['Provider City'] + \", \" + df['Provider State'] + \" \" + df['Provider Zip Code'].astype(str)\n",
    "df.head()"
   ]
  },
  {
   "cell_type": "code",
   "execution_count": null,
   "metadata": {},
   "outputs": [],
   "source": [
    "address = df.iloc[0]['Location']"
   ]
  },
  {
   "cell_type": "code",
   "execution_count": null,
   "metadata": {},
   "outputs": [],
   "source": [
    "geolocator = geopy.geocoders.Nominatim(user_agent='jacks-ml-project')\n",
    "geocode_rate_limited = geopy.extra.rate_limiter.RateLimiter(geolocator.geocode, min_delay_seconds=1)"
   ]
  },
  {
   "cell_type": "markdown",
   "metadata": {},
   "source": [
    "This next cell takes hours to run, as it calls a web service for each row in the dataset and is rate-limited to 1/sec. This has already been run and is stored in `NH_ProviderInfo_Jan2022_with_coords.csv`. "
   ]
  },
  {
   "cell_type": "code",
   "execution_count": null,
   "metadata": {},
   "outputs": [],
   "source": [
    "# df['geo_loc'] = df['Full Address'].apply(geocode_rate_limited)\n",
    "# df['geo_point'] = df['geo_loc'].apply(lambda x: tuple(x.point)[0:2] if x else (np.nan, np.nan))\n",
    "# df[['lat', 'lon']] = pd.DataFrame(df['geo_point'].tolist(), index=df.index)\n",
    "# df = df.drop(columns=['geo_loc', 'geo_point'])"
   ]
  },
  {
   "cell_type": "code",
   "execution_count": null,
   "metadata": {},
   "outputs": [],
   "source": [
    "df[df['lat'].isnull()]"
   ]
  },
  {
   "cell_type": "code",
   "execution_count": null,
   "metadata": {},
   "outputs": [],
   "source": [
    "missing_coords = df[df['lat'].isnull()]\n",
    "bing_geolocator = geopy.geocoders.Bing('<API key here>')\n",
    "bing_geocode_rate_limited = geopy.extra.rate_limiter.RateLimiter(bing_geolocator.geocode, min_delay_seconds=1)\n",
    "\n",
    "missing_coords['geo_loc'] = missing_coords['Full Address'].apply(bing_geocode_rate_limited)\n",
    "missing_coords['geo_point'] = missing_coords['geo_loc'].apply(lambda x: tuple(x.point)[0:2] if x else (np.nan, np.nan))\n",
    "missing_coords[['lat', 'lon']] = pd.DataFrame(missing_coords['geo_point'].tolist(), index=missing_coords.index)\n",
    "missing_coords = missing_coords.drop(columns=['geo_loc', 'geo_point'])"
   ]
  },
  {
   "cell_type": "code",
   "execution_count": null,
   "metadata": {},
   "outputs": [],
   "source": [
    "missing_coords"
   ]
  }
 ],
 "metadata": {
  "interpreter": {
   "hash": "07efa99ad6828ae71c6e2ddc9a60051d44e5b21973d2347609701f23e6ba92c3"
  },
  "kernelspec": {
   "display_name": "Python 3.8.5 ('.env': venv)",
   "language": "python",
   "name": "python3"
  },
  "language_info": {
   "codemirror_mode": {
    "name": "ipython",
    "version": 3
   },
   "file_extension": ".py",
   "mimetype": "text/x-python",
   "name": "python",
   "nbconvert_exporter": "python",
   "pygments_lexer": "ipython3",
   "version": "3.8.5"
  },
  "orig_nbformat": 4
 },
 "nbformat": 4,
 "nbformat_minor": 2
}
