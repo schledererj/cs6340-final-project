{
 "cells": [
  {
   "cell_type": "markdown",
   "metadata": {},
   "source": [
    "# Predicting Nursing Home Fines\n",
    "\n",
    "[Direct Supply's](https://www.directsupply.com/) business is focused on senior living and healthcare. We have services in procurement, building management, design and construction, and health and wellness. The ability to predict fines a nursing home might receive would have several benefits to both the nursing home and to Direct Supply. Direct Supply may be able to help the nursing home avoid fines through the products and services that we offer. We can focus sales and engagement efforts around the things we know they need. From Direct Supply's perspective, we may be able to anticipate a downturn in sales, better estimate credit worthiness, or get ahead of potential merger and acquisition activity."
   ]
  },
  {
   "cell_type": "markdown",
   "metadata": {},
   "source": [
    "# Exploring the Data\n",
    "\n",
    "* Identify categorical and numeric features\n",
    "* Visualize the data"
   ]
  },
  {
   "cell_type": "markdown",
   "metadata": {},
   "source": [
    "# Creating a Baseline Model\n",
    "\n",
    "* Minimal feature engineering\n",
    "* No external datasets\n",
    "* Linear model"
   ]
  },
  {
   "cell_type": "markdown",
   "metadata": {},
   "source": [
    "# Enhance the Model"
   ]
  },
  {
   "cell_type": "markdown",
   "metadata": {},
   "source": [
    "## Additional Feature Engineering"
   ]
  },
  {
   "cell_type": "markdown",
   "metadata": {},
   "source": [
    "## Additional Datasets\n",
    "\n",
    "Join in state averages and quality MSR data. _Note_ that the MSR set will need to be grouped by the `Federal Provider Number`."
   ]
  },
  {
   "cell_type": "markdown",
   "metadata": {},
   "source": [
    "## More Complex Model Types\n",
    "\n",
    "Perhaps we can use some cross validation here to select a model or use grid search to tune model hyperparameters."
   ]
  },
  {
   "cell_type": "markdown",
   "metadata": {},
   "source": [
    "# Summary of Model Improvements"
   ]
  },
  {
   "cell_type": "markdown",
   "metadata": {},
   "source": [
    "# Minimal Model for Explanatory Purposes\n",
    "\n",
    "Perhaps use a correlation matrix to find features that don't provide much and remove them."
   ]
  }
 ],
 "metadata": {
  "interpreter": {
   "hash": "309b80e4fc7bf4a3e1c535dfc5b8cab1855247bffb23052a40ca007a9a83543c"
  },
  "kernelspec": {
   "display_name": "Python 3.10.2 64-bit ('.env': venv)",
   "language": "python",
   "name": "python3"
  },
  "language_info": {
   "name": "python",
   "version": "3.10.2"
  },
  "orig_nbformat": 4
 },
 "nbformat": 4,
 "nbformat_minor": 2
}
