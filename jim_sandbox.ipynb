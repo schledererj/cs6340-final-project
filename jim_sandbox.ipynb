{
 "cells": [
  {
   "cell_type": "code",
   "execution_count": null,
   "metadata": {},
   "outputs": [],
   "source": [
    "import pandas as pd\n",
    "import seaborn as sns\n",
    "import numpy as np\n",
    "import matplotlib.pyplot as plt\n",
    "\n",
    "from sklearn.model_selection import train_test_split, cross_val_score, cross_val_predict\n",
    "from sklearn.pipeline import Pipeline\n",
    "from sklearn.metrics import mean_squared_error, make_scorer\n",
    "from sklearn.compose import ColumnTransformer\n",
    "from sklearn.preprocessing import StandardScaler, OneHotEncoder, FunctionTransformer, KBinsDiscretizer\n",
    "from sklearn.impute import SimpleImputer\n",
    "from sklearn.linear_model import ElasticNet\n",
    "from sklearn.ensemble import RandomForestRegressor, GradientBoostingRegressor\n",
    "from sklearn.feature_extraction.text import TfidfVectorizer, CountVectorizer\n",
    "\n",
    "pd.options.mode.chained_assignment = None\n",
    "pd.options.display.max_rows = 500\n",
    "pd.options.display.max_columns = 500\n",
    "pd.options.display.width = 1000\n",
    "\n",
    "# NOTE: This may not be necessary in future versions of scikit-learn, but it is\n",
    "#       necessary here to get the feature names out of the ColumnTransformer.\n",
    "#       All of the other transformers support this method.\n",
    "SimpleImputer.get_feature_names_out = (\n",
    "    lambda self, names=None: self.feature_names_in_\n",
    ")\n",
    "plt.style.use('seaborn-dark')"
   ]
  },
  {
   "cell_type": "code",
   "execution_count": null,
   "metadata": {},
   "outputs": [],
   "source": [
    "provider_info_df = pd.read_csv('NH_ProviderInfo_Jan2022.csv')\n",
    "provider_info_df.info()"
   ]
  },
  {
   "cell_type": "code",
   "execution_count": null,
   "metadata": {},
   "outputs": [],
   "source": [
    "provider_info_df.info()"
   ]
  },
  {
   "cell_type": "code",
   "execution_count": null,
   "metadata": {},
   "outputs": [],
   "source": [
    "content = [\n",
    "    'Disk info : How to format, my hard disk',\n",
    "    'Hard disk format problems'\n",
    "]\n",
    "content_df = pd.DataFrame(content, columns=['some_text'])\n",
    "content_df['some_text'].to_numpy()"
   ]
  },
  {
   "cell_type": "code",
   "execution_count": null,
   "metadata": {},
   "outputs": [],
   "source": [
    "vectorizer = TfidfVectorizer(min_df=5, max_df=100, stop_words='english')\n",
    "content_prepared = pd.DataFrame(\n",
    "    vectorizer.fit_transform(provider_info_df['Legal Business Name'].to_numpy()).toarray(), \n",
    "    columns=vectorizer.get_feature_names_out())\n",
    "content_prepared.describe()"
   ]
  },
  {
   "cell_type": "code",
   "execution_count": null,
   "metadata": {},
   "outputs": [],
   "source": [
    "def make_bow_transformers(bow_fields, min_df=5, max_df=100):\n",
    "    for bow_field in bow_fields:\n",
    "        yield (f\"bow_{bow_field}\", TfidfVectorizer(min_df=min_df, max_df=max_df, stop_words='english'), bow_field)"
   ]
  },
  {
   "cell_type": "code",
   "execution_count": null,
   "metadata": {},
   "outputs": [],
   "source": [
    "bow_fields = ['Provider Name', 'Legal Business Name']\n",
    "\n",
    "ct = ColumnTransformer(\n",
    "    remainder='drop',\n",
    "    transformers=[\n",
    "    ] + list(make_bow_transformers(bow_fields))\n",
    ")\n",
    "\n",
    "X_prepared = pd.DataFrame(\n",
    "    data=ct.fit_transform(provider_info_df).toarray(), \n",
    "    columns=ct.get_feature_names_out()\n",
    ")\n",
    "X_prepared.head()"
   ]
  },
  {
   "cell_type": "code",
   "execution_count": null,
   "metadata": {},
   "outputs": [],
   "source": [
    "cat_fields=['Provider State', 'Ownership Type']\n",
    "num_fields=['Number of Certified Beds']\n",
    "cat_transformer = Pipeline(\n",
    "    steps=[\n",
    "        ('encoder', OneHotEncoder(handle_unknown='ignore'))\n",
    "    ]\n",
    ")\n",
    "num_transformer = Pipeline(\n",
    "    steps=[\n",
    "        ('imputer', SimpleImputer(strategy='median')),\n",
    "        ('scaler', StandardScaler())\n",
    "    ]\n",
    ")\n",
    "ct = ColumnTransformer(\n",
    "    remainder='drop',\n",
    "    transformers=[\n",
    "        ('cats', cat_transformer, cat_fields),\n",
    "        ('nums', num_transformer, num_fields)\n",
    "    ]\n",
    ")\n",
    "foo = pd.DataFrame(\n",
    "    ct.fit_transform(provider_info_df).toarray(),\n",
    "    columns=ct.get_feature_names_out()\n",
    ")\n",
    "foo.describe()"
   ]
  },
  {
   "cell_type": "code",
   "execution_count": null,
   "metadata": {},
   "outputs": [],
   "source": [
    "\n",
    "provider_info_df['Total Amount of Fines in Dollars'].describe()"
   ]
  },
  {
   "cell_type": "code",
   "execution_count": null,
   "metadata": {},
   "outputs": [],
   "source": [
    "sns.histplot(provider_info_df['Total Amount of Fines in Dollars'], bins=10)"
   ]
  },
  {
   "cell_type": "markdown",
   "metadata": {},
   "source": [
    "Probably a good opportunity to remove outliers later."
   ]
  },
  {
   "cell_type": "code",
   "execution_count": null,
   "metadata": {},
   "outputs": [],
   "source": [
    "foo = provider_info_df[provider_info_df['Total Amount of Fines in Dollars'] < 300000]\n",
    "sns.histplot(foo['Total Amount of Fines in Dollars'], bins=10)"
   ]
  },
  {
   "cell_type": "code",
   "execution_count": null,
   "metadata": {},
   "outputs": [],
   "source": [
    "provider_info_df['Average Number of Residents per Day Footnote'].value_counts()"
   ]
  },
  {
   "cell_type": "code",
   "execution_count": null,
   "metadata": {},
   "outputs": [],
   "source": [
    "provider_info_prepared_df = provider_info_df.drop(axis='columns', labels=[\n",
    "    'Provider Address', 'Provider Phone Number', 'Provider County Name', \n",
    "    'Rating Cycle 1 Standard Survey Health Date', 'Rating Cycle 2 Standard Health Survey Date', 'Rating Cycle 3 Standard Health Survey Date',\n",
    "    'Number of Fines', 'Total Number of Penalties', 'Location', 'Processing Date'\n",
    "])"
   ]
  },
  {
   "cell_type": "code",
   "execution_count": null,
   "metadata": {},
   "outputs": [],
   "source": [
    "cat_cols = [\n",
    "    'Provider City', 'Provider State', 'Provider Zip Code', 'Provider SSA County Code', 'Ownership Type', 'Provider Type', 'Provider Resides in Hospital', \n",
    "    'Continuing Care Retirement Community', 'Special Focus Status', 'Abuse Icon', 'Most Recent Health Inspection More Than 2 Years Ago', \n",
    "    'Provider Changed Ownership in Last 12 Months', 'With a Resident and Family Council', 'Automatic Sprinkler Systems in All Required Areas',\n",
    "    'Long-Stay QM Rating Footnote', 'Short-Stay QM Rating Footnote', 'Staffing Rating Footnote', 'RN Staffing Rating Footnote', 'Reported Staffing Footnote', \n",
    "    'Physical Therapist Staffing Footnote', 'Total nursing staff turnover footnote', 'Registered Nurse turnover footnote', 'Administrator turnover footnote']\n",
    "for cat_col in cat_cols:\n",
    "    provider_info_df[cat_col] = provider_info_df[cat_col].astype('category')\n",
    "provider_info_df.info()"
   ]
  },
  {
   "cell_type": "code",
   "execution_count": null,
   "metadata": {},
   "outputs": [],
   "source": [
    "provider_info_df.drop(axis='columns', labels=cat_cols).columns"
   ]
  },
  {
   "cell_type": "code",
   "execution_count": null,
   "metadata": {},
   "outputs": [],
   "source": [
    "num_cols = [\n",
    "    'Number of Certified Beds', 'Average Number of Residents per Day', 'Overall Rating', 'Health Inspection Rating', 'QM Rating', 'Long-Stay QM Rating', \n",
    "    'Short-Stay QM Rating', 'Staffing Rating', 'RN Staffing Rating', 'Reported Nurse Aide Staffing Hours per Resident per Day',\n",
    "    'Reported LPN Staffing Hours per Resident per Day', 'Reported RN Staffing Hours per Resident per Day', 'Reported Licensed Staffing Hours per Resident per Day',\n",
    "    'Reported Total Nurse Staffing Hours per Resident per Day', 'Total number of nurse staff hours per resident per day on the weekend',\n",
    "    'Registered Nurse hours per resident per day on the weekend', 'Reported Physical Therapist Staffing Hours per Resident Per Day',\n",
    "    'Total nursing staff turnover', 'Registered Nurse turnover',  'Number of administrators who have left the nursing home',\n",
    "    'Case-Mix Nurse Aide Staffing Hours per Resident per Day', 'Case-Mix LPN Staffing Hours per Resident per Day', 'Case-Mix RN Staffing Hours per Resident per Day',\n",
    "    'Case-Mix Total Nurse Staffing Hours per Resident per Day', 'Adjusted Nurse Aide Staffing Hours per Resident per Day',\n",
    "    'Adjusted LPN Staffing Hours per Resident per Day', 'Adjusted RN Staffing Hours per Resident per Day', 'Adjusted Total Nurse Staffing Hours per Resident per Day',\n",
    "    'Rating Cycle 1 Total Number of Health Deficiencies', 'Rating Cycle 1 Number of Standard Health Deficiencies',\n",
    "    'Rating Cycle 1 Number of Complaint Health Deficiencies', 'Rating Cycle 1 Health Deficiency Score', 'Rating Cycle 1 Number of Health Revisits',\n",
    "    'Rating Cycle 1 Health Revisit Score', 'Rating Cycle 1 Total Health Score', 'Rating Cycle 2 Total Number of Health Deficiencies',\n",
    "    'Rating Cycle 2 Number of Standard Health Deficiencies', 'Rating Cycle 2 Number of Complaint Health Deficiencies',\n",
    "    'Rating Cycle 2 Health Deficiency Score', 'Rating Cycle 2 Number of Health Revisits', 'Rating Cycle 2 Health Revisit Score',\n",
    "    'Rating Cycle 2 Total Health Score', 'Rating Cycle 3 Total Number of Health Deficiencies', 'Rating Cycle 3 Number of Standard Health Deficiencies',\n",
    "    'Rating Cycle 3 Number of Complaint Health Deficiencies', 'Rating Cycle 3 Health Deficiency Score', 'Rating Cycle 3 Number of Health Revisits',\n",
    "    'Rating Cycle 3 Health Revisit Score', 'Rating Cycle 3 Total Health Score', 'Total Weighted Health Survey Score', 'Number of Facility Reported Incidents',\n",
    "    'Number of Substantiated Complaints', 'Number of Citations from Infection Control Inspections']\n",
    "\n"
   ]
  },
  {
   "cell_type": "code",
   "execution_count": null,
   "metadata": {},
   "outputs": [],
   "source": [
    "corr_matrix = provider_info_df.corr()\n",
    "corr_matrix['Total Amount of Fines in Dollars'].sort_values(ascending=False)"
   ]
  },
  {
   "cell_type": "code",
   "execution_count": null,
   "metadata": {},
   "outputs": [],
   "source": [
    "state_averages_df = pd.read_csv('NH_StateUSAverages_Jan2022.csv')\n",
    "state_averages_df.head()"
   ]
  },
  {
   "cell_type": "code",
   "execution_count": null,
   "metadata": {},
   "outputs": [],
   "source": [
    "quality_mds_df = pd.read_csv('NH_QualityMsr_MDS_Jan2022.csv', low_memory=False)\n",
    "quality_mds_df.head()"
   ]
  },
  {
   "cell_type": "code",
   "execution_count": null,
   "metadata": {},
   "outputs": [],
   "source": [
    "quality_mds_df.groupby('Federal Provider Number').mean().describe()"
   ]
  },
  {
   "cell_type": "code",
   "execution_count": null,
   "metadata": {},
   "outputs": [],
   "source": [
    "import numpy as np\n",
    "np.random.randn(5, 3)"
   ]
  }
 ],
 "metadata": {
  "interpreter": {
   "hash": "309b80e4fc7bf4a3e1c535dfc5b8cab1855247bffb23052a40ca007a9a83543c"
  },
  "kernelspec": {
   "display_name": "Python 3.10.2 64-bit ('.env': venv)",
   "language": "python",
   "name": "python3"
  },
  "language_info": {
   "codemirror_mode": {
    "name": "ipython",
    "version": 3
   },
   "file_extension": ".py",
   "mimetype": "text/x-python",
   "name": "python",
   "nbconvert_exporter": "python",
   "pygments_lexer": "ipython3",
   "version": "3.10.2"
  },
  "orig_nbformat": 4
 },
 "nbformat": 4,
 "nbformat_minor": 2
}
